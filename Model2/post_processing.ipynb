{
  "nbformat": 4,
  "nbformat_minor": 0,
  "metadata": {
    "colab": {
      "name": "post model2.ipynb",
      "provenance": []
    },
    "kernelspec": {
      "name": "python3",
      "display_name": "Python 3"
    },
    "language_info": {
      "name": "python"
    }
  },
  "cells": [
    {
      "cell_type": "code",
      "execution_count": null,
      "source": [
        "import matplotlib\n",
        "import matplotlib.pyplot as plt\n",
        "from matplotlib.patches import Rectangle\n",
        "import numpy as np"
      ],
      "outputs": [],
      "metadata": {
        "id": "WCgF-8XpkE-G"
      }
    },
    {
      "cell_type": "code",
      "execution_count": null,
      "source": [
        "from google.colab import drive\n",
        "drive.mount('/content/drive')"
      ],
      "outputs": [
        {
          "output_type": "stream",
          "name": "stdout",
          "text": [
            "Mounted at /content/drive\n"
          ]
        }
      ],
      "metadata": {
        "colab": {
          "base_uri": "https://localhost:8080/"
        },
        "id": "YKyGrvFz1hXj",
        "outputId": "74363188-380b-4a27-a545-7d010c4b7ba8"
      }
    },
    {
      "cell_type": "code",
      "execution_count": null,
      "source": [
        "arr = np.load('/content/drive/MyDrive/Model2.npy')\n",
        "arr=np.squeeze(arr, axis=-2)\n",
        "print(np.shape(arr))"
      ],
      "outputs": [
        {
          "output_type": "stream",
          "name": "stdout",
          "text": [
            "(578322, 88)\n"
          ]
        }
      ],
      "metadata": {
        "colab": {
          "base_uri": "https://localhost:8080/"
        },
        "id": "lXy6AX1qkMdw",
        "outputId": "8fff10be-1e3e-460d-e054-703efc8e5937"
      }
    },
    {
      "cell_type": "code",
      "execution_count": null,
      "source": [
        "arr2 = np.empty((578322, 88), dtype = int)\n",
        "X=arr \n",
        "for i in range(X.shape[0]):\n",
        "    for j in range(X.shape[1]):\n",
        "        if X[i,j]==False:\n",
        "            arr2[i,j]=int(0)\n",
        "            int(arr2[i,j])\n",
        "        elif X[i,j]==True:\n",
        "            arr2[i,j]=int(1)\n",
        "\n",
        "         \n",
        "print(arr2)"
      ],
      "outputs": [
        {
          "output_type": "stream",
          "name": "stdout",
          "text": [
            "[[0 0 0 ... 0 0 0]\n",
            " [0 0 0 ... 0 0 0]\n",
            " [0 0 0 ... 0 0 0]\n",
            " ...\n",
            " [0 0 0 ... 0 0 0]\n",
            " [0 0 0 ... 0 0 0]\n",
            " [0 0 0 ... 0 0 0]]\n"
          ]
        }
      ],
      "metadata": {
        "colab": {
          "base_uri": "https://localhost:8080/"
        },
        "id": "cZ7J8-82XMF1",
        "outputId": "fb4f6772-2fa5-4d86-9bd2-19ba791c8ea2"
      }
    },
    {
      "cell_type": "code",
      "execution_count": null,
      "source": [
        "!pip install midiutil"
      ],
      "outputs": [
        {
          "output_type": "stream",
          "name": "stdout",
          "text": [
            "Collecting midiutil\n",
            "  Downloading MIDIUtil-1.2.1.tar.gz (1.0 MB)\n",
            "\u001b[?25l\r\u001b[K     |▎                               | 10 kB 20.3 MB/s eta 0:00:01\r\u001b[K     |▋                               | 20 kB 26.5 MB/s eta 0:00:01\r\u001b[K     |█                               | 30 kB 32.3 MB/s eta 0:00:01\r\u001b[K     |█▎                              | 40 kB 25.8 MB/s eta 0:00:01\r\u001b[K     |█▋                              | 51 kB 10.9 MB/s eta 0:00:01\r\u001b[K     |██                              | 61 kB 10.7 MB/s eta 0:00:01\r\u001b[K     |██▎                             | 71 kB 10.7 MB/s eta 0:00:01\r\u001b[K     |██▋                             | 81 kB 10.6 MB/s eta 0:00:01\r\u001b[K     |███                             | 92 kB 11.4 MB/s eta 0:00:01\r\u001b[K     |███▎                            | 102 kB 9.5 MB/s eta 0:00:01\r\u001b[K     |███▋                            | 112 kB 9.5 MB/s eta 0:00:01\r\u001b[K     |███▉                            | 122 kB 9.5 MB/s eta 0:00:01\r\u001b[K     |████▏                           | 133 kB 9.5 MB/s eta 0:00:01\r\u001b[K     |████▌                           | 143 kB 9.5 MB/s eta 0:00:01\r\u001b[K     |████▉                           | 153 kB 9.5 MB/s eta 0:00:01\r\u001b[K     |█████▏                          | 163 kB 9.5 MB/s eta 0:00:01\r\u001b[K     |█████▌                          | 174 kB 9.5 MB/s eta 0:00:01\r\u001b[K     |█████▉                          | 184 kB 9.5 MB/s eta 0:00:01\r\u001b[K     |██████▏                         | 194 kB 9.5 MB/s eta 0:00:01\r\u001b[K     |██████▌                         | 204 kB 9.5 MB/s eta 0:00:01\r\u001b[K     |██████▉                         | 215 kB 9.5 MB/s eta 0:00:01\r\u001b[K     |███████▏                        | 225 kB 9.5 MB/s eta 0:00:01\r\u001b[K     |███████▍                        | 235 kB 9.5 MB/s eta 0:00:01\r\u001b[K     |███████▊                        | 245 kB 9.5 MB/s eta 0:00:01\r\u001b[K     |████████                        | 256 kB 9.5 MB/s eta 0:00:01\r\u001b[K     |████████▍                       | 266 kB 9.5 MB/s eta 0:00:01\r\u001b[K     |████████▊                       | 276 kB 9.5 MB/s eta 0:00:01\r\u001b[K     |█████████                       | 286 kB 9.5 MB/s eta 0:00:01\r\u001b[K     |█████████▍                      | 296 kB 9.5 MB/s eta 0:00:01\r\u001b[K     |█████████▊                      | 307 kB 9.5 MB/s eta 0:00:01\r\u001b[K     |██████████                      | 317 kB 9.5 MB/s eta 0:00:01\r\u001b[K     |██████████▍                     | 327 kB 9.5 MB/s eta 0:00:01\r\u001b[K     |██████████▊                     | 337 kB 9.5 MB/s eta 0:00:01\r\u001b[K     |███████████                     | 348 kB 9.5 MB/s eta 0:00:01\r\u001b[K     |███████████▎                    | 358 kB 9.5 MB/s eta 0:00:01\r\u001b[K     |███████████▋                    | 368 kB 9.5 MB/s eta 0:00:01\r\u001b[K     |████████████                    | 378 kB 9.5 MB/s eta 0:00:01\r\u001b[K     |████████████▎                   | 389 kB 9.5 MB/s eta 0:00:01\r\u001b[K     |████████████▋                   | 399 kB 9.5 MB/s eta 0:00:01\r\u001b[K     |█████████████                   | 409 kB 9.5 MB/s eta 0:00:01\r\u001b[K     |█████████████▎                  | 419 kB 9.5 MB/s eta 0:00:01\r\u001b[K     |█████████████▋                  | 430 kB 9.5 MB/s eta 0:00:01\r\u001b[K     |██████████████                  | 440 kB 9.5 MB/s eta 0:00:01\r\u001b[K     |██████████████▎                 | 450 kB 9.5 MB/s eta 0:00:01\r\u001b[K     |██████████████▋                 | 460 kB 9.5 MB/s eta 0:00:01\r\u001b[K     |██████████████▉                 | 471 kB 9.5 MB/s eta 0:00:01\r\u001b[K     |███████████████▏                | 481 kB 9.5 MB/s eta 0:00:01\r\u001b[K     |███████████████▌                | 491 kB 9.5 MB/s eta 0:00:01\r\u001b[K     |███████████████▉                | 501 kB 9.5 MB/s eta 0:00:01\r\u001b[K     |████████████████▏               | 512 kB 9.5 MB/s eta 0:00:01\r\u001b[K     |████████████████▌               | 522 kB 9.5 MB/s eta 0:00:01\r\u001b[K     |████████████████▉               | 532 kB 9.5 MB/s eta 0:00:01\r\u001b[K     |█████████████████▏              | 542 kB 9.5 MB/s eta 0:00:01\r\u001b[K     |█████████████████▌              | 552 kB 9.5 MB/s eta 0:00:01\r\u001b[K     |█████████████████▉              | 563 kB 9.5 MB/s eta 0:00:01\r\u001b[K     |██████████████████▏             | 573 kB 9.5 MB/s eta 0:00:01\r\u001b[K     |██████████████████▍             | 583 kB 9.5 MB/s eta 0:00:01\r\u001b[K     |██████████████████▊             | 593 kB 9.5 MB/s eta 0:00:01\r\u001b[K     |███████████████████             | 604 kB 9.5 MB/s eta 0:00:01\r\u001b[K     |███████████████████▍            | 614 kB 9.5 MB/s eta 0:00:01\r\u001b[K     |███████████████████▊            | 624 kB 9.5 MB/s eta 0:00:01\r\u001b[K     |████████████████████            | 634 kB 9.5 MB/s eta 0:00:01\r\u001b[K     |████████████████████▍           | 645 kB 9.5 MB/s eta 0:00:01\r\u001b[K     |████████████████████▊           | 655 kB 9.5 MB/s eta 0:00:01\r\u001b[K     |█████████████████████           | 665 kB 9.5 MB/s eta 0:00:01\r\u001b[K     |█████████████████████▍          | 675 kB 9.5 MB/s eta 0:00:01\r\u001b[K     |█████████████████████▊          | 686 kB 9.5 MB/s eta 0:00:01\r\u001b[K     |██████████████████████          | 696 kB 9.5 MB/s eta 0:00:01\r\u001b[K     |██████████████████████▎         | 706 kB 9.5 MB/s eta 0:00:01\r\u001b[K     |██████████████████████▋         | 716 kB 9.5 MB/s eta 0:00:01\r\u001b[K     |███████████████████████         | 727 kB 9.5 MB/s eta 0:00:01\r\u001b[K     |███████████████████████▎        | 737 kB 9.5 MB/s eta 0:00:01\r\u001b[K     |███████████████████████▋        | 747 kB 9.5 MB/s eta 0:00:01\r\u001b[K     |████████████████████████        | 757 kB 9.5 MB/s eta 0:00:01\r\u001b[K     |████████████████████████▎       | 768 kB 9.5 MB/s eta 0:00:01\r\u001b[K     |████████████████████████▋       | 778 kB 9.5 MB/s eta 0:00:01\r\u001b[K     |█████████████████████████       | 788 kB 9.5 MB/s eta 0:00:01\r\u001b[K     |█████████████████████████▎      | 798 kB 9.5 MB/s eta 0:00:01\r\u001b[K     |█████████████████████████▋      | 808 kB 9.5 MB/s eta 0:00:01\r\u001b[K     |█████████████████████████▉      | 819 kB 9.5 MB/s eta 0:00:01\r\u001b[K     |██████████████████████████▏     | 829 kB 9.5 MB/s eta 0:00:01\r\u001b[K     |██████████████████████████▌     | 839 kB 9.5 MB/s eta 0:00:01\r\u001b[K     |██████████████████████████▉     | 849 kB 9.5 MB/s eta 0:00:01\r\u001b[K     |███████████████████████████▏    | 860 kB 9.5 MB/s eta 0:00:01\r\u001b[K     |███████████████████████████▌    | 870 kB 9.5 MB/s eta 0:00:01\r\u001b[K     |███████████████████████████▉    | 880 kB 9.5 MB/s eta 0:00:01\r\u001b[K     |████████████████████████████▏   | 890 kB 9.5 MB/s eta 0:00:01\r\u001b[K     |████████████████████████████▌   | 901 kB 9.5 MB/s eta 0:00:01\r\u001b[K     |████████████████████████████▉   | 911 kB 9.5 MB/s eta 0:00:01\r\u001b[K     |█████████████████████████████▏  | 921 kB 9.5 MB/s eta 0:00:01\r\u001b[K     |█████████████████████████████▍  | 931 kB 9.5 MB/s eta 0:00:01\r\u001b[K     |█████████████████████████████▊  | 942 kB 9.5 MB/s eta 0:00:01\r\u001b[K     |██████████████████████████████  | 952 kB 9.5 MB/s eta 0:00:01\r\u001b[K     |██████████████████████████████▍ | 962 kB 9.5 MB/s eta 0:00:01\r\u001b[K     |██████████████████████████████▊ | 972 kB 9.5 MB/s eta 0:00:01\r\u001b[K     |███████████████████████████████ | 983 kB 9.5 MB/s eta 0:00:01\r\u001b[K     |███████████████████████████████▍| 993 kB 9.5 MB/s eta 0:00:01\r\u001b[K     |███████████████████████████████▊| 1.0 MB 9.5 MB/s eta 0:00:01\r\u001b[K     |████████████████████████████████| 1.0 MB 9.5 MB/s \n",
            "\u001b[?25hBuilding wheels for collected packages: midiutil\n",
            "  Building wheel for midiutil (setup.py) ... \u001b[?25l\u001b[?25hdone\n",
            "  Created wheel for midiutil: filename=MIDIUtil-1.2.1-py3-none-any.whl size=54566 sha256=7092f7c2270dfd0b3f1179fd70b48f6420b925ace9cafc55c359b8a79fb3ec76\n",
            "  Stored in directory: /root/.cache/pip/wheels/e3/97/cd/a677b61a76d575f373e2e10302f1d9106507fea6dd1320df03\n",
            "Successfully built midiutil\n",
            "Installing collected packages: midiutil\n",
            "Successfully installed midiutil-1.2.1\n"
          ]
        }
      ],
      "metadata": {
        "colab": {
          "base_uri": "https://localhost:8080/"
        },
        "id": "Su38BL8FXWGi",
        "outputId": "18eceff1-5773-4303-a9e2-46e8143239c4"
      }
    },
    {
      "cell_type": "code",
      "execution_count": null,
      "source": [
        "from midiutil.MidiFile import MIDIFile\n",
        "\n",
        "mf = MIDIFile(1)\n",
        "track = 0   \n",
        "time = 0\n",
        "delta = 0.000005\n",
        "mf.addTrackName(track, time, \"Output\")\n",
        "mf.addTempo(track, time, 120)\n",
        "\n",
        "channel = 0\n",
        "volume = 100\n",
        "duration = 0.01 \n",
        "\n",
        "for i in range(10000):   \n",
        "    time=time + i*delta\n",
        "    for j in range(arr2.shape[1]):\n",
        "        if X[i][j] == 1:\n",
        "            pitch = j\n",
        "            mf.addNote(track, channel, pitch, time, duration, volume)\n"
      ],
      "outputs": [],
      "metadata": {
        "id": "A9futyqCXW8P"
      }
    },
    {
      "cell_type": "code",
      "execution_count": null,
      "source": [
        "with open(\"output_final.mid\", 'wb') as outf:\n",
        "    mf.writeFile(outf)"
      ],
      "outputs": [],
      "metadata": {
        "id": "XMw5So8UtCKB"
      }
    },
    {
      "cell_type": "code",
      "execution_count": null,
      "source": [
        "!pip install pretty_midi"
      ],
      "outputs": [
        {
          "output_type": "stream",
          "name": "stdout",
          "text": [
            "Collecting pretty_midi\n",
            "  Downloading pretty_midi-0.2.9.tar.gz (5.6 MB)\n",
            "\u001b[K     |████████████████████████████████| 5.6 MB 7.0 MB/s \n",
            "\u001b[?25hRequirement already satisfied: numpy>=1.7.0 in /usr/local/lib/python3.7/dist-packages (from pretty_midi) (1.19.5)\n",
            "Collecting mido>=1.1.16\n",
            "  Downloading mido-1.2.10-py2.py3-none-any.whl (51 kB)\n",
            "\u001b[K     |████████████████████████████████| 51 kB 6.4 MB/s \n",
            "\u001b[?25hRequirement already satisfied: six in /usr/local/lib/python3.7/dist-packages (from pretty_midi) (1.15.0)\n",
            "Building wheels for collected packages: pretty-midi\n",
            "  Building wheel for pretty-midi (setup.py) ... \u001b[?25l\u001b[?25hdone\n",
            "  Created wheel for pretty-midi: filename=pretty_midi-0.2.9-py3-none-any.whl size=5591955 sha256=5aff435bdf67c633f9d1891cba78f7582e773d95517d452df725db4ac0c07c58\n",
            "  Stored in directory: /root/.cache/pip/wheels/ad/74/7c/a06473ca8dcb63efb98c1e67667ce39d52100f837835ea18fa\n",
            "Successfully built pretty-midi\n",
            "Installing collected packages: mido, pretty-midi\n",
            "Successfully installed mido-1.2.10 pretty-midi-0.2.9\n"
          ]
        }
      ],
      "metadata": {
        "colab": {
          "base_uri": "https://localhost:8080/"
        },
        "id": "IVa3HkOuXZ9E",
        "outputId": "286655c5-3e7e-41d4-9952-e7cbb106712b"
      }
    },
    {
      "cell_type": "code",
      "execution_count": null,
      "source": [
        "import pretty_midi\n",
        "import pandas as pd\n",
        "path = \"output_final.mid\"\n",
        "midi_data = pretty_midi.PrettyMIDI(path)\n",
        "midi_list = []\n",
        "\n",
        "pretty_midi.pretty_midi.MAX_TICK = 1e10\n",
        "midi_data.tick_to_time(14325216)\n",
        "\n",
        "for instrument in midi_data.instruments:\n",
        "    for note in instrument.notes:\n",
        "        start = note.start\n",
        "        end = note.end\n",
        "        pitch = note.pitch\n",
        "        velocity = note.velocity\n",
        "        midi_list.append([start, end, pitch, velocity, instrument.name])\n",
        "        \n",
        "midi_list = sorted(midi_list, key=lambda x: (x[0], x[2]))\n",
        "\n",
        "df = pd.DataFrame(midi_list, columns=['Start', 'End', 'Pitch', 'Velocity', 'Instrument'])\n",
        "\n",
        "print(df)"
      ],
      "outputs": [
        {
          "output_type": "stream",
          "name": "stdout",
          "text": [
            "            Start         End  Pitch  Velocity Instrument\n",
            "0        0.000000    0.004687     13       100     Output\n",
            "1        0.000000    0.000521     41       100     Output\n",
            "2        0.000000    0.000521     53       100     Output\n",
            "3        0.000521    0.001042     41       100     Output\n",
            "4        0.000521    0.001042     53       100     Output\n",
            "...           ...         ...    ...       ...        ...\n",
            "52652  124.987500  124.992188     23       100     Output\n",
            "52653  124.987500  124.992188     30       100     Output\n",
            "52654  124.987500  124.992188     35       100     Output\n",
            "52655  124.987500  124.992188     39       100     Output\n",
            "52656  124.987500  124.992188     61       100     Output\n",
            "\n",
            "[52657 rows x 5 columns]\n"
          ]
        }
      ],
      "metadata": {
        "colab": {
          "base_uri": "https://localhost:8080/"
        },
        "id": "GVxuYJI_XcY-",
        "outputId": "d2553359-0365-4aa7-9547-e32c7b435d0f"
      }
    },
    {
      "cell_type": "code",
      "execution_count": null,
      "source": [
        "fig, ax = plt.subplots()\n",
        "\n",
        "i = 0\n",
        "while(i<52657) :\n",
        "    start = float(midi_list[i][0])\n",
        "    pitch = float(midi_list[i][2])\n",
        "    duration = float(midi_list[i][1]-midi_list[i][0])\n",
        "    rect = matplotlib.patches.Rectangle((start, pitch),duration, 1, ec='black', linewidth=1)\n",
        "    ax.add_patch(rect)\n",
        "    i+=1\n",
        "  \n",
        "\n",
        "plt.xlim([0, 130])\n",
        "plt.ylim([0, 88])\n",
        "\n",
        "plt.grid(color='grey',linewidth=1)\n",
        "\n",
        "print('From Model')\n",
        "plt.show()"
      ],
      "outputs": [
        {
          "output_type": "stream",
          "name": "stdout",
          "text": [
            "From Model\n"
          ]
        },
        {
          "output_type": "display_data",
          "data": {
            "text/plain": [
              "<Figure size 432x288 with 1 Axes>"
            ],
            "image/png": "[encoded data removed]"
          },
          "metadata": {
            "tags": [],
            "needs_background": "light"
          }
        }
      ],
      "metadata": {
        "colab": {
          "base_uri": "https://localhost:8080/",
          "height": 283
        },
        "id": "3nSlxNnHXpu7",
        "outputId": "b2cd9077-7b2b-4c6f-bfb1-cc4e9fcd2a94"
      }
    },
    {
      "cell_type": "code",
      "execution_count": null,
      "source": [
        "arr3 = np.load('/content/drive/MyDrive/CQT files/Ytestfinal.npy')\n",
        "arr3=np.squeeze(arr3, axis=-2)\n",
        "print(np.shape(arr3))"
      ],
      "outputs": [
        {
          "output_type": "stream",
          "name": "stdout",
          "text": [
            "(15219, 38, 88)\n"
          ]
        }
      ],
      "metadata": {
        "colab": {
          "base_uri": "https://localhost:8080/"
        },
        "id": "JW38_pX3azpC",
        "outputId": "e3c3943a-bbd6-4b36-b695-cb51b2cbb3be"
      }
    },
    {
      "cell_type": "code",
      "execution_count": null,
      "source": [
        "X2=[]\n",
        "i=0\n",
        "for i in range(15219):\n",
        "  if i==0:\n",
        "    X2=arr3[0]\n",
        "  else:\n",
        "    X2=np.concatenate((X2, arr3[i]), axis=0)\n",
        "print(X2.shape)"
      ],
      "outputs": [
        {
          "output_type": "stream",
          "name": "stdout",
          "text": [
            "(578322, 88)\n"
          ]
        }
      ],
      "metadata": {
        "colab": {
          "base_uri": "https://localhost:8080/"
        },
        "id": "uNyysS4Qa_Vr",
        "outputId": "32be538d-f4d8-4e42-ddac-4e2dec20c004"
      }
    },
    {
      "cell_type": "code",
      "execution_count": null,
      "source": [
        "arr4 = np.empty((578322, 88), dtype = int) \n",
        "for i in range(X2.shape[0]):\n",
        "    for j in range(X.shape[1]):\n",
        "        if X2[i,j]==False:\n",
        "            arr4[i,j]=int(0)\n",
        "            int(arr4[i,j])\n",
        "        elif X2[i,j]==True:\n",
        "            arr4[i,j]=int(1)\n",
        "\n",
        "         \n",
        "print(arr4)"
      ],
      "outputs": [
        {
          "output_type": "stream",
          "name": "stdout",
          "text": [
            "[[0 0 0 ... 0 0 0]\n",
            " [0 0 0 ... 0 0 0]\n",
            " [0 0 0 ... 0 0 0]\n",
            " ...\n",
            " [0 0 0 ... 0 0 0]\n",
            " [0 0 0 ... 0 0 0]\n",
            " [0 0 0 ... 0 0 0]]\n"
          ]
        }
      ],
      "metadata": {
        "colab": {
          "base_uri": "https://localhost:8080/"
        },
        "id": "cJZPQrhobCgL",
        "outputId": "ea3afd0c-b137-44d8-f08c-ba38d9dd8733"
      }
    },
    {
      "cell_type": "code",
      "execution_count": null,
      "source": [
        "print(np.count_nonzero(arr4))"
      ],
      "outputs": [],
      "metadata": {
        "id": "qF_lbBmBbDCV"
      }
    },
    {
      "cell_type": "code",
      "execution_count": null,
      "source": [
        "mf = MIDIFile(1)\n",
        "track = 0   \n",
        "time = 0\n",
        "delta = 0.000005\n",
        "mf.addTrackName(track, time, \"Output\")\n",
        "mf.addTempo(track, time, 120)\n",
        "\n",
        "channel = 0\n",
        "volume = 100\n",
        "duration = 0.01 \n",
        "\n",
        "for i in range(10000):   \n",
        "    time=time + i*delta\n",
        "    for j in range(arr4.shape[1]):\n",
        "        if X2[i][j] == 1:\n",
        "            pitch = j\n",
        "            mf.addNote(track, channel, pitch, time, duration, volume)\n"
      ],
      "outputs": [],
      "metadata": {
        "id": "WC90zDMfbHix"
      }
    },
    {
      "cell_type": "code",
      "execution_count": null,
      "source": [
        "with open(\"output_final_actual.mid\", 'wb') as outf:\n",
        "    mf.writeFile(outf)"
      ],
      "outputs": [],
      "metadata": {
        "id": "CjVUMkW9bKgT"
      }
    },
    {
      "cell_type": "code",
      "execution_count": null,
      "source": [
        "path = \"output_final_actual.mid\"\n",
        "midi_data = pretty_midi.PrettyMIDI(path)\n",
        "midi_list = []\n",
        "\n",
        "pretty_midi.pretty_midi.MAX_TICK = 1e10\n",
        "midi_data.tick_to_time(14325216)\n",
        "\n",
        "for instrument in midi_data.instruments:\n",
        "    for note in instrument.notes:\n",
        "        start = note.start\n",
        "        end = note.end\n",
        "        pitch = note.pitch\n",
        "        velocity = note.velocity\n",
        "        midi_list.append([start, end, pitch, velocity, instrument.name])\n",
        "        \n",
        "midi_list = sorted(midi_list, key=lambda x: (x[0], x[2]))\n",
        "\n",
        "df = pd.DataFrame(midi_list, columns=['Start', 'End', 'Pitch', 'Velocity', 'Instrument'])\n",
        "\n",
        "print(df)"
      ],
      "outputs": [
        {
          "output_type": "stream",
          "name": "stdout",
          "text": [
            "            Start         End  Pitch  Velocity Instrument\n",
            "0        0.000000    0.000521     41       100     Output\n",
            "1        0.000521    0.001042     41       100     Output\n",
            "2        0.001042    0.001563     41       100     Output\n",
            "3        0.001563    0.002083     41       100     Output\n",
            "4        0.002083    0.002604     41       100     Output\n",
            "...           ...         ...    ...       ...        ...\n",
            "53598  124.987500  124.992188     30       100     Output\n",
            "53599  124.987500  124.992188     35       100     Output\n",
            "53600  124.987500  124.992188     39       100     Output\n",
            "53601  124.987500  124.992188     61       100     Output\n",
            "53602  124.987500  124.992188     63       100     Output\n",
            "\n",
            "[53603 rows x 5 columns]\n"
          ]
        }
      ],
      "metadata": {
        "colab": {
          "base_uri": "https://localhost:8080/"
        },
        "id": "jSiHR42tbQlw",
        "outputId": "a55faa07-1e10-4b4c-8275-0a701b73a1a0"
      }
    },
    {
      "cell_type": "code",
      "execution_count": null,
      "source": [
        "fig, ax = plt.subplots()\n",
        "\n",
        "i = 0\n",
        "while(i<53602) :\n",
        "    start = float(midi_list[i][0])\n",
        "    pitch = float(midi_list[i][2])\n",
        "    duration = float(midi_list[i][1]-midi_list[i][0])\n",
        "    rect = matplotlib.patches.Rectangle((start, pitch),duration, 1, ec='black', linewidth=1)\n",
        "    ax.add_patch(rect)\n",
        "    i+=1\n",
        "  \n",
        "\n",
        "plt.xlim([0, 130])\n",
        "plt.ylim([0, 88])\n",
        "\n",
        "plt.grid(color='grey',linewidth=1)\n",
        "\n",
        "print('Actual')\n",
        "plt.show()"
      ],
      "outputs": [
        {
          "output_type": "stream",
          "name": "stdout",
          "text": [
            "Actual\n"
          ]
        },
        {
          "output_type": "display_data",
          "data": {
            "text/plain": [
              "<Figure size 432x288 with 1 Axes>"
            ],
            "image/png": "[encoded data removed]"
          },
          "metadata": {
            "tags": [],
            "needs_background": "light"
          }
        }
      ],
      "metadata": {
        "colab": {
          "base_uri": "https://localhost:8080/",
          "height": 283
        },
        "id": "YHHCMsWVbTer",
        "outputId": "9e024e2b-881d-49e0-915f-1a3b1f4c1404"
      }
    }
  ]
}