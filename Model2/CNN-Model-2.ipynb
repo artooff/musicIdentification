{
  "nbformat": 4,
  "nbformat_minor": 2,
  "metadata": {
    "accelerator": "GPU",
    "colab": {
      "name": "Model 2- ek baar mei run karloon.ipynb",
      "provenance": [],
      "collapsed_sections": [],
      "machine_shape": "hm"
    },
    "kernelspec": {
      "display_name": "Python 3",
      "name": "python3"
    },
    "language_info": {
      "name": "python"
    }
  },
  "cells": [
    {
      "cell_type": "code",
      "execution_count": null,
      "source": [
        "import tensorflow as tf\r\n",
        "from tensorflow.keras import Sequential\r\n",
        "from tensorflow.keras import Input\r\n",
        "import numpy as np\r\n",
        "import pandas as pd\r\n",
        "import os\r\n",
        "import keras\r\n",
        "from keras.layers import Conv2D, MaxPool2D, add,Dropout,Dense,Flatten\r\n",
        "from keras.layers.normalization import BatchNormalization\r\n",
        "from keras.optimizers import Adam\r\n",
        "from keras.callbacks import EarlyStopping, Callback\r\n",
        "import sklearn\r\n",
        "from matplotlib import pyplot as plt"
      ],
      "outputs": [],
      "metadata": {
        "id": "NzqoOQ6Y78mZ"
      }
    },
    {
      "cell_type": "code",
      "execution_count": null,
      "source": [
        "from google.colab import drive\r\n",
        "drive.mount('/content/drive')"
      ],
      "outputs": [
        {
          "output_type": "stream",
          "name": "stdout",
          "text": [
            "Mounted at /content/drive\n"
          ]
        }
      ],
      "metadata": {
        "colab": {
          "base_uri": "https://localhost:8080/"
        },
        "id": "Tb_oB127wql4",
        "outputId": "a32bafd6-eee1-4de7-c077-d92fa821b05b"
      }
    },
    {
      "cell_type": "code",
      "execution_count": null,
      "source": [
        "# Load the data set to the Google drive \r\n",
        "from google.colab import drive\r\n",
        "drive.mount('/content/drive')"
      ],
      "outputs": [
        {
          "output_type": "stream",
          "name": "stdout",
          "text": [
            "Drive already mounted at /content/drive; to attempt to forcibly remount, call drive.mount(\"/content/drive\", force_remount=True).\n"
          ]
        }
      ],
      "metadata": {
        "colab": {
          "base_uri": "https://localhost:8080/"
        },
        "id": "DbAe0ccd8B92",
        "outputId": "f13101be-4e97-4c4f-89eb-0eed3eefd106"
      }
    },
    {
      "cell_type": "code",
      "execution_count": null,
      "source": [
        "y_val=np.load('/content/drive/MyDrive/CQT files/Ytestfinal.npy' ,mmap_mode= 'r')\r\n",
        "print(y_val.shape)"
      ],
      "outputs": [
        {
          "output_type": "stream",
          "name": "stdout",
          "text": [
            "(15219, 38, 1, 88)\n"
          ]
        }
      ],
      "metadata": {
        "colab": {
          "base_uri": "https://localhost:8080/"
        },
        "id": "w3II4kl7Awp0",
        "outputId": "c4345f11-318d-431e-eb42-631431f54119"
      }
    },
    {
      "cell_type": "code",
      "execution_count": null,
      "source": [
        "X_val=np.load('/content/drive/MyDrive/CQT files/Xtestfinal.npy',mmap_mode= 'r')\r\n",
        "print(X_val.shape)"
      ],
      "outputs": [
        {
          "output_type": "stream",
          "name": "stdout",
          "text": [
            "(15219, 38, 1, 252)\n"
          ]
        }
      ],
      "metadata": {
        "colab": {
          "base_uri": "https://localhost:8080/"
        },
        "id": "eVA4TOXfAy-J",
        "outputId": "68e29aae-ca73-4fc4-ffe7-d19a52aabff0"
      }
    },
    {
      "cell_type": "code",
      "execution_count": null,
      "source": [
        "y_train=np.load('/content/drive/MyDrive/CQT files/Ytrainfinal.npy' ,mmap_mode= 'r')\r\n",
        "print(y_train.shape)\r\n",
        "X_train=np.load('/content/drive/MyDrive/CQT files/Xtrainfinal.npy' ,mmap_mode= 'r')\r\n",
        "print(X_train.shape)"
      ],
      "outputs": [
        {
          "output_type": "stream",
          "name": "stdout",
          "text": [
            "(47805, 38, 1, 88)\n",
            "(47805, 38, 1, 252)\n"
          ]
        }
      ],
      "metadata": {
        "colab": {
          "base_uri": "https://localhost:8080/"
        },
        "id": "25MHXNc-OB9X",
        "outputId": "5628966f-c666-464f-a481-d3ed00bf09bf"
      }
    },
    {
      "cell_type": "code",
      "execution_count": null,
      "source": [
        "mini_batch_size=256"
      ],
      "outputs": [],
      "metadata": {
        "id": "FA9JGoahIqsB"
      }
    },
    {
      "cell_type": "code",
      "execution_count": null,
      "source": [
        "# The X_train is converted to 4 dimension with a mini_batch size of 400 \r\n",
        "X_train = X_train[:int(X_train.shape[0]/mini_batch_size)*mini_batch_size,:]\r\n",
        "print(X_train.shape)"
      ],
      "outputs": [
        {
          "output_type": "stream",
          "name": "stdout",
          "text": [
            "(47616, 38, 1, 252)\n"
          ]
        }
      ],
      "metadata": {
        "colab": {
          "base_uri": "https://localhost:8080/"
        },
        "id": "KWson-qBA9VE",
        "outputId": "d7c7c609-96e1-4127-f74b-e8698c9bea46"
      }
    },
    {
      "cell_type": "code",
      "execution_count": null,
      "source": [
        "# The Y_train is converted to 4 dimension with a mini_batch size of 400 similar to X_train\r\n",
        "y_train = y_train[:int(y_train.shape[0]/mini_batch_size)*mini_batch_size,:]\r\n",
        "print(y_train.shape)"
      ],
      "outputs": [
        {
          "output_type": "stream",
          "name": "stdout",
          "text": [
            "(47616, 38, 1, 88)\n"
          ]
        }
      ],
      "metadata": {
        "colab": {
          "base_uri": "https://localhost:8080/"
        },
        "id": "H2vAVnzhBAda",
        "outputId": "6cc7214f-de1f-4806-a8d0-8248e2e9f4fd"
      }
    },
    {
      "cell_type": "code",
      "execution_count": null,
      "source": [
        "X_train=tf.transpose(X_train, perm=[0, 1, 3, 2])\r\n",
        "X_val=tf.transpose(X_val, perm=[0, 1, 3, 2])"
      ],
      "outputs": [],
      "metadata": {
        "id": "59_H6hMBRk8W"
      }
    },
    {
      "cell_type": "code",
      "execution_count": null,
      "source": [
        "# shape of validation set :\r\n",
        "print(X_val.shape)\r\n",
        "print(y_val.shape)"
      ],
      "outputs": [
        {
          "output_type": "stream",
          "name": "stdout",
          "text": [
            "(15219, 38, 252, 1)\n",
            "(15219, 38, 1, 88)\n"
          ]
        }
      ],
      "metadata": {
        "colab": {
          "base_uri": "https://localhost:8080/"
        },
        "id": "izd043GZBE6Y",
        "outputId": "90c8e589-7047-4dcc-930b-5def82ed40b0"
      }
    },
    {
      "cell_type": "code",
      "execution_count": null,
      "source": [
        "minibatch= True"
      ],
      "outputs": [],
      "metadata": {
        "id": "TgFrVSGRBIjr"
      }
    },
    {
      "cell_type": "code",
      "execution_count": null,
      "source": [
        "# training the data in tensorflow with mini batch size equal to 400\r\n",
        "train_data = tf.data.Dataset.from_tensor_slices((X_train,y_train))\r\n",
        "train_data = train_data.batch(mini_batch_size)\r\n",
        "\r\n",
        "validation_data = tf.data.Dataset.from_tensor_slices((X_val,y_val))\r\n",
        "validation_data = validation_data.batch(mini_batch_size)"
      ],
      "outputs": [],
      "metadata": {
        "id": "UqyTFVrBBOQv"
      }
    },
    {
      "cell_type": "code",
      "execution_count": null,
      "source": [
        "print(train_data)\r\n",
        "print(validation_data)"
      ],
      "outputs": [
        {
          "output_type": "stream",
          "name": "stdout",
          "text": [
            "<BatchDataset shapes: ((None, 38, 252, 1), (None, 38, 1, 88)), types: (tf.float64, tf.float64)>\n",
            "<BatchDataset shapes: ((None, 38, 252, 1), (None, 38, 1, 88)), types: (tf.float64, tf.float64)>\n"
          ]
        }
      ],
      "metadata": {
        "colab": {
          "base_uri": "https://localhost:8080/"
        },
        "id": "aR422OY_BOxX",
        "outputId": "681556ab-b0b7-4244-8ee7-661fe68347e3"
      }
    },
    {
      "cell_type": "code",
      "execution_count": null,
      "source": [
        "# parameters for the layers of neural network \r\n",
        "window_size=7\r\n",
        "min_midi = 21\r\n",
        "max_midi = 108\r\n",
        "note_range = max_midi - min_midi + 1"
      ],
      "outputs": [],
      "metadata": {
        "id": "EGKh7FGHBVBi"
      }
    },
    {
      "cell_type": "code",
      "execution_count": null,
      "source": [
        "input_shape=(None, 38, 252, 1)\r\n",
        "model=tf.keras.Sequential()\r\n",
        "\r\n",
        "#stage1\r\n",
        "model.add(Conv2D(filters=50, kernel_size=(5,25), activation='elu', input_shape=input_shape, padding=\"same\", strides=1))\r\n",
        "model.add(BatchNormalization())\r\n",
        "model.add(MaxPool2D(pool_size=(1, 3), strides=(1,3), padding=\"same\"))\r\n",
        "\r\n",
        "#stage2\r\n",
        "model.add(Conv2D(filters=50, kernel_size=(3,5), strides=1, activation='elu', padding=\"same\"))\r\n",
        "model.add(BatchNormalization())\r\n",
        "model.add(MaxPool2D(pool_size=(1, 3), strides=(1,3), padding=\"same\"))\r\n",
        "\r\n",
        "#stage3\r\n",
        "model.add(Conv2D(filters=1000, kernel_size=(1,28), activation='elu'))\r\n",
        "model.add(Dropout(rate=0.5))\r\n",
        "\r\n",
        "#stage4\r\n",
        "model.add(Conv2D(filters=500, kernel_size=1, activation='elu', padding=\"same\"))\r\n",
        "model.add(Dropout(rate=0.5))\r\n",
        "\r\n",
        "#stage5\r\n",
        "model.add(Conv2D(filters=88, kernel_size=1, activation='sigmoid'))"
      ],
      "outputs": [],
      "metadata": {
        "id": "f7geeUqcBVnL"
      }
    },
    {
      "cell_type": "code",
      "execution_count": null,
      "source": [
        "# Code for the Accuracy of the Model \r\n",
        "class AccuracyHistory(tf.keras.callbacks.Callback):\r\n",
        "    def on_train_begin(self, logs={}):\r\n",
        "        self.acc = []\r\n",
        "\r\n",
        "    def on_epoch_end(self, batch, logs={}):\r\n",
        "        self.acc.append(logs.get('acc'))"
      ],
      "outputs": [],
      "metadata": {
        "id": "PRre3FwZBdbC"
      }
    },
    {
      "cell_type": "code",
      "execution_count": null,
      "source": [
        "# Calculating the accuracy of the model using adam as optimizer and the learning rate is 0.001\r\n",
        "optimizer1 = Adam(learning_rate=0.001)\r\n",
        "model.compile(loss='binary_crossentropy', optimizer= optimizer1, metrics=['accuracy'])\r\n",
        "history = AccuracyHistory()\r\n",
        "\r\n",
        "# checkpoint = ModelCheckpoint(model_ckpt,monitor='val_loss',verbose=1,save_best_only=True,mode='min')\r\n",
        "early_stop = EarlyStopping(patience=5, monitor='val_loss',verbose=1, mode='min')\r\n",
        "callbacks = [history,early_stop]"
      ],
      "outputs": [],
      "metadata": {
        "id": "cfdduOlHBfaZ"
      }
    },
    {
      "cell_type": "code",
      "execution_count": null,
      "source": [
        "history = model.fit(train_data,epochs=12,batch_size=mini_batch_size,validation_data=validation_data, verbose = 1, callbacks=callbacks)"
      ],
      "outputs": [
        {
          "output_type": "stream",
          "name": "stdout",
          "text": [
            "Epoch 1/12\n",
            "  6/186 [..............................] - ETA: 1:41 - loss: 0.0833 - accuracy: 0.3265WARNING:tensorflow:Callback method `on_train_batch_end` is slow compared to the batch time (batch time: 0.2089s vs `on_train_batch_end` time: 0.3561s). Check your callbacks.\n",
            "186/186 [==============================] - 156s 651ms/step - loss: 0.0685 - accuracy: 0.3658 - val_loss: 0.0856 - val_accuracy: 0.3179\n",
            "Epoch 2/12\n",
            "186/186 [==============================] - 122s 658ms/step - loss: 0.0670 - accuracy: 0.3648 - val_loss: 0.0830 - val_accuracy: 0.3011\n",
            "Epoch 3/12\n",
            "186/186 [==============================] - 122s 655ms/step - loss: 0.0658 - accuracy: 0.3670 - val_loss: 0.0844 - val_accuracy: 0.2943\n",
            "Epoch 4/12\n",
            "186/186 [==============================] - 123s 660ms/step - loss: 0.0643 - accuracy: 0.3696 - val_loss: 0.0817 - val_accuracy: 0.3071\n",
            "Epoch 5/12\n",
            "186/186 [==============================] - 122s 656ms/step - loss: 0.0629 - accuracy: 0.3707 - val_loss: 0.0800 - val_accuracy: 0.2929\n",
            "Epoch 6/12\n",
            "186/186 [==============================] - 122s 656ms/step - loss: 0.0619 - accuracy: 0.3725 - val_loss: 0.0763 - val_accuracy: 0.3024\n",
            "Epoch 7/12\n",
            "186/186 [==============================] - 122s 655ms/step - loss: 0.0608 - accuracy: 0.3725 - val_loss: 0.0825 - val_accuracy: 0.3050\n",
            "Epoch 8/12\n",
            "186/186 [==============================] - 122s 655ms/step - loss: 0.0597 - accuracy: 0.3730 - val_loss: 0.0813 - val_accuracy: 0.3046\n",
            "Epoch 9/12\n",
            "186/186 [==============================] - 122s 656ms/step - loss: 0.0582 - accuracy: 0.3765 - val_loss: 0.0782 - val_accuracy: 0.2838\n",
            "Epoch 10/12\n",
            "186/186 [==============================] - 122s 656ms/step - loss: 0.0573 - accuracy: 0.3757 - val_loss: 0.0908 - val_accuracy: 0.2948\n",
            "Epoch 11/12\n",
            "186/186 [==============================] - 122s 656ms/step - loss: 0.0564 - accuracy: 0.3752 - val_loss: 0.0829 - val_accuracy: 0.2803\n",
            "Epoch 00011: early stopping\n"
          ]
        }
      ],
      "metadata": {
        "colab": {
          "base_uri": "https://localhost:8080/"
        },
        "id": "vigFYMdrBhQ3",
        "outputId": "2daaf25a-c0f8-4067-e5bd-5b992a1aab94"
      }
    },
    {
      "cell_type": "code",
      "execution_count": null,
      "source": [
        "from matplotlib import pyplot as plt\r\n",
        "plt.plot(history.history['accuracy'])\r\n",
        "plt.plot(history.history['val_accuracy'])\r\n",
        "plt.title('model accuracy')\r\n",
        "plt.ylabel('accuracy')\r\n",
        "plt.xlabel('epoch')\r\n",
        "plt.legend(['train', 'val'], loc='upper left')\r\n",
        "plt.show()"
      ],
      "outputs": [
        {
          "output_type": "display_data",
          "data": {
            "text/plain": [
              "<Figure size 432x288 with 1 Axes>"
            ],
            "image/png": "[encoded data removed]"
          },
          "metadata": {
            "tags": [],
            "needs_background": "light"
          }
        }
      ],
      "metadata": {
        "colab": {
          "base_uri": "https://localhost:8080/",
          "height": 295
        },
        "id": "SfrMriW1NYi2",
        "outputId": "9e233ef6-1b01-4032-93b2-81e06837927f"
      }
    },
    {
      "cell_type": "code",
      "execution_count": null,
      "source": [
        "plt.plot(history.history['loss'])\r\n",
        "plt.plot(history.history['val_loss'])\r\n",
        "plt.title('model loss')\r\n",
        "plt.ylabel('loss')\r\n",
        "plt.xlabel('epoch')\r\n",
        "plt.legend(['train', 'val'], loc='upper left')\r\n",
        "plt.show()"
      ],
      "outputs": [
        {
          "output_type": "display_data",
          "data": {
            "text/plain": [
              "<Figure size 432x288 with 1 Axes>"
            ],
            "image/png": "[encoded data removed]"
          },
          "metadata": {
            "tags": [],
            "needs_background": "light"
          }
        }
      ],
      "metadata": {
        "colab": {
          "base_uri": "https://localhost:8080/",
          "height": 295
        },
        "id": "_b4oPityNhLR",
        "outputId": "09d133c4-5ed5-43b3-f634-3781fb649bc7"
      }
    },
    {
      "cell_type": "code",
      "execution_count": null,
      "source": [
        "#summary\r\n",
        "model.summary()"
      ],
      "outputs": [
        {
          "output_type": "stream",
          "name": "stdout",
          "text": [
            "Model: \"sequential\"\n",
            "_________________________________________________________________\n",
            "Layer (type)                 Output Shape              Param #   \n",
            "=================================================================\n",
            "module_wrapper (ModuleWrappe (None, 38, 252, 50)       6300      \n",
            "_________________________________________________________________\n",
            "module_wrapper_1 (ModuleWrap (None, 38, 252, 50)       200       \n",
            "_________________________________________________________________\n",
            "module_wrapper_2 (ModuleWrap (None, 38, 84, 50)        0         \n",
            "_________________________________________________________________\n",
            "module_wrapper_3 (ModuleWrap (None, 38, 84, 50)        37550     \n",
            "_________________________________________________________________\n",
            "module_wrapper_4 (ModuleWrap (None, 38, 84, 50)        200       \n",
            "_________________________________________________________________\n",
            "module_wrapper_5 (ModuleWrap (None, 38, 28, 50)        0         \n",
            "_________________________________________________________________\n",
            "module_wrapper_6 (ModuleWrap (None, 38, 1, 1000)       1401000   \n",
            "_________________________________________________________________\n",
            "module_wrapper_7 (ModuleWrap (None, 38, 1, 1000)       0         \n",
            "_________________________________________________________________\n",
            "module_wrapper_8 (ModuleWrap (None, 38, 1, 500)        500500    \n",
            "_________________________________________________________________\n",
            "module_wrapper_9 (ModuleWrap (None, 38, 1, 500)        0         \n",
            "_________________________________________________________________\n",
            "module_wrapper_10 (ModuleWra (None, 38, 1, 88)         44088     \n",
            "=================================================================\n",
            "Total params: 1,989,838\n",
            "Trainable params: 1,989,638\n",
            "Non-trainable params: 200\n",
            "_________________________________________________________________\n"
          ]
        }
      ],
      "metadata": {
        "colab": {
          "base_uri": "https://localhost:8080/"
        },
        "id": "5Ds5_XYWBjd1",
        "outputId": "013ac709-05ee-4f71-b775-ff4f2ac4b5d8"
      }
    },
    {
      "cell_type": "code",
      "execution_count": null,
      "source": [
        "def opt_thresholds(y_true,y_scores):\r\n",
        "    othresholds = np.zeros(y_scores.shape[1])\r\n",
        "    print(othresholds.shape)\r\n",
        "    for label, (label_scores, true_bin) in enumerate(zip(y_scores.T,y_true.T)):\r\n",
        "        precision, recall, thresholds = sklearn.metrics.precision_recall_curve(true_bin, label_scores)\r\n",
        "        max_f1 = 0\r\n",
        "        max_f1_threshold = .5\r\n",
        "        for r, p, t in zip(recall, precision, thresholds):\r\n",
        "            if p + r == 0: continue\r\n",
        "            if (2*p*r)/(p + r) > max_f1:\r\n",
        "                max_f1 = (2*p*r)/(p + r)\r\n",
        "                max_f1_threshold = t\r\n",
        "        # print(\"label %f: max_f1_threshold %f => max_f1 %f\" %(label, max_f1_threshold, max_f1))\r\n",
        "        othresholds[label] = max_f1_threshold\r\n",
        "    return othresholds"
      ],
      "outputs": [],
      "metadata": {
        "id": "tucIbBDsszSt"
      }
    },
    {
      "cell_type": "code",
      "execution_count": null,
      "source": [
        "tf.config.run_functions_eagerly(True)"
      ],
      "outputs": [],
      "metadata": {
        "id": "8vdrMiFFtUSS"
      }
    },
    {
      "cell_type": "code",
      "execution_count": null,
      "source": [
        "from sklearn.metrics import precision_recall_fscore_support\r\n",
        "#calculating threshold on validation data\r\n",
        "x, y_true=X_val, y_val\r\n",
        "y_scores=model.predict(x)\r\n",
        "y_scores=np.reshape(y_scores, (578322, 88))\r\n",
        "y_val=np.reshape(y_val, (578322, 88))\r\n",
        "othresholds = opt_thresholds(y_true,y_scores)\r\n",
        "\r\n",
        "#evaludate this over validation data\r\n",
        "y_pred = y_scores > othresholds\r\n",
        "#precision, recall, fbetascore, support =>p, r, f, s\r\n",
        "p,r,f,s = sklearn.metrics.precision_recall_fscore_support(y_true,y_pred,average='micro')\r\n",
        "print(\"%f %f %f\" %(p, r, f))"
      ],
      "outputs": [
        {
          "output_type": "stream",
          "name": "stdout",
          "text": [
            "(88,)\n"
          ]
        },
        {
          "output_type": "stream",
          "name": "stderr",
          "text": [
            "/usr/local/lib/python3.7/dist-packages/sklearn/metrics/_ranking.py:677: RuntimeWarning: invalid value encountered in true_divide\n",
            "  recall = tps / tps[-1]\n"
          ]
        },
        {
          "output_type": "stream",
          "name": "stdout",
          "text": [
            "0.700020 0.731141 0.715242\n"
          ]
        }
      ],
      "metadata": {
        "id": "jGNx3fk1tV34",
        "colab": {
          "base_uri": "https://localhost:8080/"
        },
        "outputId": "4b8b5370-2cda-4ba0-fc36-ae380d6fe51e"
      }
    },
    {
      "cell_type": "code",
      "execution_count": null,
      "source": [
        "np.save('y_pred.npy', y_pred)"
      ],
      "outputs": [],
      "metadata": {
        "id": "7vW4Vb1MthEO"
      }
    }
  ]
}