{
  "nbformat": 4,
  "nbformat_minor": 0,
  "metadata": {
    "colab": {
      "name": "post model1.ipynb",
      "provenance": []
    },
    "kernelspec": {
      "name": "python3",
      "display_name": "Python 3"
    },
    "language_info": {
      "name": "python"
    }
  },
  "cells": [
    {
      "cell_type": "code",
      "metadata": {
        "id": "WCgF-8XpkE-G"
      },
      "source": [
        "import matplotlib\n",
        "import matplotlib.pyplot as plt\n",
        "from matplotlib.patches import Rectangle\n",
        "import numpy as np"
      ],
      "execution_count": null,
      "outputs": []
    },
    {
      "cell_type": "code",
      "metadata": {
        "colab": {
          "base_uri": "https://localhost:8080/"
        },
        "id": "YKyGrvFz1hXj",
        "outputId": "10baa10d-30a4-4e63-d7ca-7d637bbd8c37"
      },
      "source": [
        "from google.colab import drive\n",
        "drive.mount('/content/drive')"
      ],
      "execution_count": null,
      "outputs": [
        {
          "output_type": "stream",
          "text": [
            "Mounted at /content/drive\n"
          ],
          "name": "stdout"
        }
      ]
    },
    {
      "cell_type": "code",
      "metadata": {
        "colab": {
          "base_uri": "https://localhost:8080/"
        },
        "id": "lXy6AX1qkMdw",
        "outputId": "c8cfda9e-0ef8-40bd-a12d-58e15efcda14"
      },
      "source": [
        "arr = np.load('/content/drive/MyDrive/Post-Processing/CQT2.npy')\n",
        "print(np.shape(arr))"
      ],
      "execution_count": null,
      "outputs": [
        {
          "output_type": "stream",
          "text": [
            "(5157, 100, 88)\n"
          ],
          "name": "stdout"
        }
      ]
    },
    {
      "cell_type": "code",
      "metadata": {
        "colab": {
          "base_uri": "https://localhost:8080/"
        },
        "id": "-oyQ_cwy99at",
        "outputId": "0c308828-cd84-4c81-eb19-452372e5c7f0"
      },
      "source": [
        "X=[]\n",
        "i=0\n",
        "for i in range(5157):\n",
        "  if i==0:\n",
        "    X=arr[0]\n",
        "  else:\n",
        "    X=np.concatenate((X, arr[i]), axis=0)\n",
        "print(X.shape)"
      ],
      "execution_count": null,
      "outputs": [
        {
          "output_type": "stream",
          "text": [
            "(515700, 88)\n"
          ],
          "name": "stdout"
        }
      ]
    },
    {
      "cell_type": "code",
      "metadata": {
        "colab": {
          "base_uri": "https://localhost:8080/"
        },
        "id": "cZ7J8-82XMF1",
        "outputId": "404dc938-11f8-4e99-bf1d-046cba0d0d9c"
      },
      "source": [
        "arr2 = np.empty((515700, 88), dtype = int) \n",
        "for i in range(X.shape[0]):\n",
        "    for j in range(X.shape[1]):\n",
        "        if X[i,j]==False:\n",
        "            arr2[i,j]=int(0)\n",
        "            int(arr2[i,j])\n",
        "        elif X[i,j]==True:\n",
        "            arr2[i,j]=int(1)\n",
        "\n",
        "print(arr2)"
      ],
      "execution_count": null,
      "outputs": [
        {
          "output_type": "stream",
          "text": [
            "[[0 0 0 ... 0 0 0]\n",
            " [0 0 0 ... 0 0 0]\n",
            " [0 0 0 ... 0 0 0]\n",
            " ...\n",
            " [0 0 0 ... 0 0 0]\n",
            " [0 0 0 ... 0 0 0]\n",
            " [0 0 0 ... 0 0 0]]\n"
          ],
          "name": "stdout"
        }
      ]
    },
    {
      "cell_type": "code",
      "metadata": {
        "colab": {
          "base_uri": "https://localhost:8080/"
        },
        "id": "Su38BL8FXWGi",
        "outputId": "52fec0f4-6add-4ae5-dfa7-4c6b52607c1d"
      },
      "source": [
        "!pip install midiutil"
      ],
      "execution_count": null,
      "outputs": [
        {
          "output_type": "stream",
          "text": [
            "Collecting midiutil\n",
            "  Downloading MIDIUtil-1.2.1.tar.gz (1.0 MB)\n",
            "\u001b[K     |████████████████████████████████| 1.0 MB 4.9 MB/s \n",
            "\u001b[?25hBuilding wheels for collected packages: midiutil\n",
            "  Building wheel for midiutil (setup.py) ... \u001b[?25l\u001b[?25hdone\n",
            "  Created wheel for midiutil: filename=MIDIUtil-1.2.1-py3-none-any.whl size=54566 sha256=194a3a0604d8380bc4195434938c2d500fb58378c4ae8c90595ed45b43593709\n",
            "  Stored in directory: /root/.cache/pip/wheels/e3/97/cd/a677b61a76d575f373e2e10302f1d9106507fea6dd1320df03\n",
            "Successfully built midiutil\n",
            "Installing collected packages: midiutil\n",
            "Successfully installed midiutil-1.2.1\n"
          ],
          "name": "stdout"
        }
      ]
    },
    {
      "cell_type": "code",
      "metadata": {
        "id": "A9futyqCXW8P"
      },
      "source": [
        "from midiutil.MidiFile import MIDIFile\n",
        "\n",
        "mf = MIDIFile(1)\n",
        "track = 0   \n",
        "time = 0\n",
        "delta = 0.000005\n",
        "mf.addTrackName(track, time, \"Output\")\n",
        "mf.addTempo(track, time, 120)\n",
        "\n",
        "channel = 0\n",
        "volume = 100\n",
        "duration = 0.01 \n",
        "\n",
        "for i in range(10000):   \n",
        "    time=time + i*delta\n",
        "    for j in range(arr2.shape[1]):\n",
        "        if X[i][j] == 1:\n",
        "            pitch = j\n",
        "            mf.addNote(track, channel, pitch, time, duration, volume)"
      ],
      "execution_count": null,
      "outputs": []
    },
    {
      "cell_type": "code",
      "metadata": {
        "id": "XMw5So8UtCKB"
      },
      "source": [
        "#generate the MIDI file for y_test_pred\n",
        "with open(\"output_final.mid\", 'wb') as outf:\n",
        "    mf.writeFile(outf)"
      ],
      "execution_count": null,
      "outputs": []
    },
    {
      "cell_type": "code",
      "metadata": {
        "colab": {
          "base_uri": "https://localhost:8080/"
        },
        "id": "IVa3HkOuXZ9E",
        "outputId": "394ab1d2-ebdc-4ab6-9e84-1c0b278692f2"
      },
      "source": [
        "!pip install pretty_midi"
      ],
      "execution_count": null,
      "outputs": [
        {
          "output_type": "stream",
          "text": [
            "Collecting pretty_midi\n",
            "  Downloading pretty_midi-0.2.9.tar.gz (5.6 MB)\n",
            "\u001b[K     |████████████████████████████████| 5.6 MB 4.1 MB/s \n",
            "\u001b[?25hRequirement already satisfied: numpy>=1.7.0 in /usr/local/lib/python3.7/dist-packages (from pretty_midi) (1.19.5)\n",
            "Collecting mido>=1.1.16\n",
            "  Downloading mido-1.2.10-py2.py3-none-any.whl (51 kB)\n",
            "\u001b[K     |████████████████████████████████| 51 kB 4.9 MB/s \n",
            "\u001b[?25hRequirement already satisfied: six in /usr/local/lib/python3.7/dist-packages (from pretty_midi) (1.15.0)\n",
            "Building wheels for collected packages: pretty-midi\n",
            "  Building wheel for pretty-midi (setup.py) ... \u001b[?25l\u001b[?25hdone\n",
            "  Created wheel for pretty-midi: filename=pretty_midi-0.2.9-py3-none-any.whl size=5591955 sha256=2104b0409979acfe5aaece9c773d05c71b29a4b8b648b30cbd5b53fd37d571a1\n",
            "  Stored in directory: /root/.cache/pip/wheels/ad/74/7c/a06473ca8dcb63efb98c1e67667ce39d52100f837835ea18fa\n",
            "Successfully built pretty-midi\n",
            "Installing collected packages: mido, pretty-midi\n",
            "Successfully installed mido-1.2.10 pretty-midi-0.2.9\n"
          ],
          "name": "stdout"
        }
      ]
    },
    {
      "cell_type": "code",
      "metadata": {
        "colab": {
          "base_uri": "https://localhost:8080/"
        },
        "id": "GVxuYJI_XcY-",
        "outputId": "76e4953d-6f2f-4748-c922-16b9a1a74d16"
      },
      "source": [
        "import pretty_midi\n",
        "import pandas as pd\n",
        "path = \"output_final.mid\"\n",
        "midi_data = pretty_midi.PrettyMIDI(path)\n",
        "midi_list = []\n",
        "\n",
        "pretty_midi.pretty_midi.MAX_TICK = 1e10\n",
        "midi_data.tick_to_time(14325216)\n",
        "\n",
        "for instrument in midi_data.instruments:\n",
        "    for note in instrument.notes:\n",
        "        start = note.start\n",
        "        end = note.end\n",
        "        pitch = note.pitch\n",
        "        velocity = note.velocity\n",
        "        midi_list.append([start, end, pitch, velocity, instrument.name])\n",
        "        \n",
        "midi_list = sorted(midi_list, key=lambda x: (x[0], x[2]))\n",
        "\n",
        "df = pd.DataFrame(midi_list, columns=['Start', 'End', 'Pitch', 'Velocity', 'Instrument'])\n",
        "\n",
        "print(df)"
      ],
      "execution_count": null,
      "outputs": [
        {
          "output_type": "stream",
          "text": [
            "            Start         End  Pitch  Velocity Instrument\n",
            "0        0.000000    0.000521     29       100     Output\n",
            "1        0.000000    0.000521     41       100     Output\n",
            "2        0.000000    0.002083     81       100     Output\n",
            "3        0.000521    0.001042     29       100     Output\n",
            "4        0.000521    0.001042     41       100     Output\n",
            "...           ...         ...    ...       ...        ...\n",
            "90712  124.962500  124.967187     81       100     Output\n",
            "90713  124.987500  124.992188     51       100     Output\n",
            "90714  124.987500  124.992188     54       100     Output\n",
            "90715  124.987500  124.992188     81       100     Output\n",
            "90716  124.987500  124.992188     84       100     Output\n",
            "\n",
            "[90717 rows x 5 columns]\n"
          ],
          "name": "stdout"
        }
      ]
    },
    {
      "cell_type": "code",
      "metadata": {
        "colab": {
          "base_uri": "https://localhost:8080/",
          "height": 283
        },
        "id": "3nSlxNnHXpu7",
        "outputId": "fbda34e3-ea85-4e15-fb44-23aef17f179b"
      },
      "source": [
        "fig, ax = plt.subplots()\n",
        " \n",
        "i = 0\n",
        "while(i<90716) :\n",
        "    start = float(midi_list[i][0])\n",
        "    pitch = float(midi_list[i][2])\n",
        "    duration = float(midi_list[i][1]-midi_list[i][0])\n",
        "    rect = matplotlib.patches.Rectangle((start, pitch),duration, 1, ec='black', linewidth=1)\n",
        "    ax.add_patch(rect)\n",
        "    i+=1\n",
        "  \n",
        " \n",
        "plt.xlim([0, 130])\n",
        "plt.ylim([0, 88])\n",
        " \n",
        "plt.grid(color='grey',linewidth=1)\n",
        " \n",
        "print('From Model')\n",
        "plt.show()"
      ],
      "execution_count": null,
      "outputs": [
        {
          "output_type": "stream",
          "text": [
            "From Model\n"
          ],
          "name": "stdout"
        },
        {
          "output_type": "display_data",
          "data": {
            "image/png": "[encoded data removed]",
            "text/plain": [
              "<Figure size 432x288 with 1 Axes>"
            ]
          },
          "metadata": {
            "tags": [],
            "needs_background": "light"
          }
        }
      ]
    },
    {
      "cell_type": "code",
      "metadata": {
        "colab": {
          "base_uri": "https://localhost:8080/"
        },
        "id": "O77oTJaNdMB2",
        "outputId": "b941524a-a9f3-4a42-f5e3-554886e70841"
      },
      "source": [
        "arr3 = np.load('/content/drive/MyDrive/CQT2files/Ytestfinal.npy')\n",
        "arr3=np.squeeze(arr3, axis=-2)\n",
        "print(np.shape(arr3))"
      ],
      "execution_count": null,
      "outputs": [
        {
          "output_type": "stream",
          "text": [
            "(5157, 100, 88)\n"
          ],
          "name": "stdout"
        }
      ]
    },
    {
      "cell_type": "code",
      "metadata": {
        "colab": {
          "base_uri": "https://localhost:8080/"
        },
        "id": "WCmRH6VydgSD",
        "outputId": "d85bdc4f-4c0a-4b37-cc1b-b3d302d23f64"
      },
      "source": [
        "X2=[]\n",
        "i=0\n",
        "for i in range(5157):\n",
        "  if i==0:\n",
        "    X2=arr3[0]\n",
        "  else:\n",
        "    X2=np.concatenate((X2, arr3[i]), axis=0)\n",
        "print(X2.shape)"
      ],
      "execution_count": null,
      "outputs": [
        {
          "output_type": "stream",
          "text": [
            "(515700, 88)\n"
          ],
          "name": "stdout"
        }
      ]
    },
    {
      "cell_type": "code",
      "metadata": {
        "colab": {
          "base_uri": "https://localhost:8080/"
        },
        "id": "5EvaENdGdoHw",
        "outputId": "436ec97d-1ac0-4f88-8ffa-3db6cc11a2bb"
      },
      "source": [
        "arr4 = np.empty((515700, 88), dtype = int) \n",
        "for i in range(X2.shape[0]):\n",
        "    for j in range(X2.shape[1]):\n",
        "        if X2[i,j]==False:\n",
        "            arr4[i,j]=int(0)\n",
        "            int(arr4[i,j])\n",
        "        elif X2[i,j]==True:\n",
        "            arr4[i,j]=int(1)\n",
        "\n",
        "         \n",
        "print(arr4)"
      ],
      "execution_count": null,
      "outputs": [
        {
          "output_type": "stream",
          "text": [
            "[[0 0 0 ... 0 0 0]\n",
            " [0 0 0 ... 0 0 0]\n",
            " [0 0 0 ... 0 0 0]\n",
            " ...\n",
            " [0 0 0 ... 0 0 0]\n",
            " [0 0 0 ... 0 0 0]\n",
            " [0 0 0 ... 0 0 0]]\n"
          ],
          "name": "stdout"
        }
      ]
    },
    {
      "cell_type": "code",
      "metadata": {
        "id": "k_eJWQq3dtri"
      },
      "source": [
        "from midiutil.MidiFile import MIDIFile\n",
        "\n",
        "mf = MIDIFile(1)\n",
        "track = 0   \n",
        "time = 0\n",
        "delta = 0.000005\n",
        "mf.addTrackName(track, time, \"Output\")\n",
        "mf.addTempo(track, time, 120)\n",
        "\n",
        "channel = 0\n",
        "volume = 100\n",
        "duration = 0.01 \n",
        "\n",
        "for i in range(10000):   \n",
        "    time=time + i*delta\n",
        "    for j in range(arr4.shape[1]):\n",
        "        if X2[i][j] == 1:\n",
        "            pitch = j\n",
        "            mf.addNote(track, channel, pitch, time, duration, volume)"
      ],
      "execution_count": null,
      "outputs": []
    },
    {
      "cell_type": "code",
      "metadata": {
        "id": "WuJaU196dxi7"
      },
      "source": [
        "with open(\"output_final_actual.mid\", 'wb') as outf:\n",
        "    mf.writeFile(outf)"
      ],
      "execution_count": null,
      "outputs": []
    },
    {
      "cell_type": "code",
      "metadata": {
        "colab": {
          "base_uri": "https://localhost:8080/"
        },
        "id": "2ESEAn2Od3M3",
        "outputId": "444d1777-6c51-4fab-8bca-c36d0f922075"
      },
      "source": [
        "import pretty_midi\n",
        "import pandas as pd\n",
        "path = \"output_final_actual.mid\"\n",
        "midi_data = pretty_midi.PrettyMIDI(path)\n",
        "midi_list = []\n",
        "\n",
        "pretty_midi.pretty_midi.MAX_TICK = 1e10\n",
        "midi_data.tick_to_time(14325216)\n",
        "\n",
        "for instrument in midi_data.instruments:\n",
        "    for note in instrument.notes:\n",
        "        start = note.start\n",
        "        end = note.end\n",
        "        pitch = note.pitch\n",
        "        velocity = note.velocity\n",
        "        midi_list.append([start, end, pitch, velocity, instrument.name])\n",
        "        \n",
        "midi_list = sorted(midi_list, key=lambda x: (x[0], x[2]))\n",
        "\n",
        "df = pd.DataFrame(midi_list, columns=['Start', 'End', 'Pitch', 'Velocity', 'Instrument'])\n",
        "\n",
        "print(df)"
      ],
      "execution_count": null,
      "outputs": [
        {
          "output_type": "stream",
          "text": [
            "            Start         End  Pitch  Velocity Instrument\n",
            "0        0.000000    0.000521     41       100     Output\n",
            "1        0.000521    0.001042     41       100     Output\n",
            "2        0.001042    0.001563     41       100     Output\n",
            "3        0.001563    0.002083     41       100     Output\n",
            "4        0.002083    0.002604     41       100     Output\n",
            "...           ...         ...    ...       ...        ...\n",
            "53348  124.987500  124.992188     47       100     Output\n",
            "53349  124.987500  124.992188     51       100     Output\n",
            "53350  124.987500  124.992188     54       100     Output\n",
            "53351  124.987500  124.992188     59       100     Output\n",
            "53352  124.987500  124.992188     61       100     Output\n",
            "\n",
            "[53353 rows x 5 columns]\n"
          ],
          "name": "stdout"
        }
      ]
    },
    {
      "cell_type": "code",
      "metadata": {
        "colab": {
          "base_uri": "https://localhost:8080/",
          "height": 283
        },
        "id": "dYrjaPWFd7c4",
        "outputId": "3cf1cb34-14f3-4e41-8f0b-89e8a4e8003f"
      },
      "source": [
        "fig, ax = plt.subplots()\n",
        "\n",
        "i = 0\n",
        "while(i<53353) :\n",
        "    start = float(midi_list[i][0])\n",
        "    pitch = float(midi_list[i][2])\n",
        "    duration = float(midi_list[i][1]-midi_list[i][0])\n",
        "    rect = matplotlib.patches.Rectangle((start, pitch),duration, 1, ec='black', linewidth=1)\n",
        "    ax.add_patch(rect)\n",
        "    i+=1\n",
        "  \n",
        "\n",
        "plt.xlim([0, 130])\n",
        "plt.ylim([0, 88])\n",
        "\n",
        "plt.grid(color='grey',linewidth=1)\n",
        "\n",
        "print('Actual')\n",
        "plt.show()"
      ],
      "execution_count": null,
      "outputs": [
        {
          "output_type": "stream",
          "text": [
            "Actual\n"
          ],
          "name": "stdout"
        },
        {
          "output_type": "display_data",
          "data": {
            "image/png": "[encoded data removed]",
            "text/plain": [
              "<Figure size 432x288 with 1 Axes>"
            ]
          },
          "metadata": {
            "tags": [],
            "needs_background": "light"
          }
        }
      ]
    }
  ]
}