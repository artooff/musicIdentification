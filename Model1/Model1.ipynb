{
  "nbformat": 4,
  "nbformat_minor": 0,
  "metadata": {
    "accelerator": "GPU",
    "colab": {
      "provenance": [],
      "machine_shape": "hm"
    },
    "kernelspec": {
      "display_name": "Python 3",
      "name": "python3"
    },
    "language_info": {
      "name": "python"
    }
  },
  "cells": [
    {
      "cell_type": "code",
      "execution_count": null,
      "source": [
        "import tensorflow as tf\n",
        "from tensorflow.keras import Sequential\n",
        "from tensorflow.keras import Input\n",
        "import numpy as np\n",
        "import pandas as pd\n",
        "import os\n",
        "import keras\n",
        "from keras.layers import Conv2D, MaxPool2D, add,Dropout,Dense,Flatten\n",
        "from keras.layers.normalization import BatchNormalization\n",
        "from keras.optimizers import Adam\n",
        "from keras.callbacks import EarlyStopping, Callback\n",
        "\n",
        "import sklearn\n",
        "from sklearn.metrics import precision_recall_fscore_support\n",
        "from numpy import save"
      ],
      "outputs": [],
      "metadata": {
        "id": "T2pxbSvIWF_H"
      }
    },
    {
      "cell_type": "code",
      "execution_count": null,
      "source": [
        "from google.colab import drive\n",
        "drive.mount('/content/drive')"
      ],
      "outputs": [
        {
          "output_type": "stream",
          "name": "stdout",
          "text": [
            "Mounted at /content/drive\n"
          ]
        }
      ],
      "metadata": {
        "colab": {
          "base_uri": "https://localhost:8080/"
        },
        "id": "uC9E_DAojOQp",
        "outputId": "a5551ff0-7f47-4386-cd24-4a94cc2249c6"
      }
    },
    {
      "cell_type": "code",
      "execution_count": null,
      "source": [
        "mini_batch_size = 700"
      ],
      "outputs": [],
      "metadata": {
        "id": "vwl1bjNLyQhc"
      }
    },
    {
      "cell_type": "code",
      "execution_count": null,
      "source": [
        "y_train=np.load('/content/drive/MyDrive/CNN/CQT2files/Ytrainfinal.npy',mmap_mode= 'r')\n",
        "print(y_train.shape)"
      ],
      "outputs": [
        {
          "output_type": "stream",
          "name": "stdout",
          "text": [
            "(16206, 100, 1, 88)\n"
          ]
        }
      ],
      "metadata": {
        "colab": {
          "base_uri": "https://localhost:8080/"
        },
        "id": "dehBhwF_4_ua",
        "outputId": "992f0186-f49a-4cad-8a97-4b556e2631c3"
      }
    },
    {
      "cell_type": "code",
      "execution_count": null,
      "source": [
        "X_train=np.load('/content/drive/MyDrive/CNN/CQT2files/Xtrainfinal.npy',mmap_mode= 'r')\n",
        "print(X_train.shape)"
      ],
      "outputs": [
        {
          "output_type": "stream",
          "name": "stdout",
          "text": [
            "(16206, 100, 1, 252)\n"
          ]
        }
      ],
      "metadata": {
        "colab": {
          "base_uri": "https://localhost:8080/"
        },
        "id": "-dcWsIXb5EdG",
        "outputId": "ff196a64-632f-4e47-d4c1-95122e5486f6"
      }
    },
    {
      "cell_type": "code",
      "execution_count": null,
      "source": [
        "X_validation=np.load('/content/drive/MyDrive/CNN/CQT2files/Xtestfinal.npy',mmap_mode= 'r')\n",
        "print(X_validation.shape)"
      ],
      "outputs": [
        {
          "output_type": "stream",
          "name": "stdout",
          "text": [
            "(5157, 100, 1, 252)\n"
          ]
        }
      ],
      "metadata": {
        "colab": {
          "base_uri": "https://localhost:8080/"
        },
        "id": "3RWS8wCXEvBt",
        "outputId": "2a8fa5f3-75b0-4887-b27b-8a9e89ff462c"
      }
    },
    {
      "cell_type": "code",
      "execution_count": null,
      "source": [
        "y_validation=np.load('/content/drive/MyDrive/CNN/CQT2files/Ytestfinal.npy',mmap_mode= 'r')\n",
        "print(y_validation.shape)"
      ],
      "outputs": [
        {
          "output_type": "stream",
          "name": "stdout",
          "text": [
            "(5157, 100, 1, 88)\n"
          ]
        }
      ],
      "metadata": {
        "colab": {
          "base_uri": "https://localhost:8080/"
        },
        "id": "K31otmFkE7Oa",
        "outputId": "e3a8d38c-7cf7-4d13-c4ad-6c3fac772a7f"
      }
    },
    {
      "cell_type": "code",
      "execution_count": null,
      "source": [
        "X_test=np.load('/content/drive/MyDrive/CNN/CQT2files/Xtestfinal.npy',mmap_mode= 'r')\n",
        "print(X_test.shape)"
      ],
      "outputs": [
        {
          "output_type": "stream",
          "name": "stdout",
          "text": [
            "(5157, 100, 1, 252)\n"
          ]
        }
      ],
      "metadata": {
        "id": "Gx9-U5NdIuIw",
        "colab": {
          "base_uri": "https://localhost:8080/"
        },
        "outputId": "1c306eca-10ea-4442-b092-374238c90982"
      }
    },
    {
      "cell_type": "code",
      "execution_count": null,
      "source": [
        "y_test=np.load('/content/drive/MyDrive/CNN/CQT2files/Ytestfinal.npy',mmap_mode= 'r')\n",
        "print(y_test.shape)"
      ],
      "outputs": [
        {
          "output_type": "stream",
          "name": "stdout",
          "text": [
            "(5157, 100, 1, 88)\n"
          ]
        }
      ],
      "metadata": {
        "id": "ObiNX-zkIvA0",
        "colab": {
          "base_uri": "https://localhost:8080/"
        },
        "outputId": "8a3fd598-fa1c-4c9a-a5b2-592be14c56a0"
      }
    },
    {
      "cell_type": "code",
      "execution_count": null,
      "source": [
        "X_train = X_train[:int(X_train.shape[0]/mini_batch_size)*mini_batch_size,:]\n",
        "print(X_train.shape)"
      ],
      "outputs": [
        {
          "output_type": "stream",
          "name": "stdout",
          "text": [
            "(16100, 100, 1, 252)\n"
          ]
        }
      ],
      "metadata": {
        "colab": {
          "base_uri": "https://localhost:8080/"
        },
        "id": "8WHpSdposTkJ",
        "outputId": "a3831726-5971-4afa-89c1-f05bf8974f8e"
      }
    },
    {
      "cell_type": "code",
      "execution_count": null,
      "source": [
        "y_train = y_train[:int(y_train.shape[0]/mini_batch_size)*mini_batch_size,:]\n",
        "print(y_train.shape)"
      ],
      "outputs": [
        {
          "output_type": "stream",
          "name": "stdout",
          "text": [
            "(16100, 100, 1, 88)\n"
          ]
        }
      ],
      "metadata": {
        "colab": {
          "base_uri": "https://localhost:8080/"
        },
        "id": "xKiU1ADOsUbB",
        "outputId": "ad9082ee-a45b-42f3-8607-81204476e1e7"
      }
    },
    {
      "cell_type": "code",
      "execution_count": null,
      "source": [
        "X_validation = X_validation[:int(X_validation.shape[0]/mini_batch_size)*mini_batch_size,:]\n",
        "print(X_validation.shape)"
      ],
      "outputs": [
        {
          "output_type": "stream",
          "name": "stdout",
          "text": [
            "(4900, 100, 1, 252)\n"
          ]
        }
      ],
      "metadata": {
        "id": "Zi7nsfBMaKWh",
        "colab": {
          "base_uri": "https://localhost:8080/"
        },
        "outputId": "96ecafe5-9aa6-4626-8c29-9ca9a3e467ed"
      }
    },
    {
      "cell_type": "code",
      "execution_count": null,
      "source": [
        "y_validation = y_validation[:int(y_validation.shape[0]/mini_batch_size)*mini_batch_size,:]\n",
        "print(y_validation.shape)"
      ],
      "outputs": [
        {
          "output_type": "stream",
          "name": "stdout",
          "text": [
            "(4900, 100, 1, 88)\n"
          ]
        }
      ],
      "metadata": {
        "id": "7GzAnhXxaV0e",
        "colab": {
          "base_uri": "https://localhost:8080/"
        },
        "outputId": "802873fb-cb26-4ea4-f4e9-5b35e5f37c1a"
      }
    },
    {
      "cell_type": "code",
      "execution_count": null,
      "source": [
        "print(X_train.shape)\n",
        "print(y_train.shape)"
      ],
      "outputs": [
        {
          "output_type": "stream",
          "name": "stdout",
          "text": [
            "(16100, 100, 1, 252)\n",
            "(16100, 100, 1, 88)\n"
          ]
        }
      ],
      "metadata": {
        "colab": {
          "base_uri": "https://localhost:8080/"
        },
        "id": "_z5TfRCPkA_t",
        "outputId": "34530f87-be20-43cf-843a-6ce949c818d5"
      }
    },
    {
      "cell_type": "code",
      "execution_count": null,
      "source": [
        "print(X_validation.shape)\n",
        "print(y_validation.shape)"
      ],
      "outputs": [
        {
          "output_type": "stream",
          "name": "stdout",
          "text": [
            "(4900, 100, 1, 252)\n",
            "(4900, 100, 1, 88)\n"
          ]
        }
      ],
      "metadata": {
        "colab": {
          "base_uri": "https://localhost:8080/"
        },
        "id": "zwtDTlgaJEAn",
        "outputId": "7f1c35a5-c052-498b-d8a1-c50a3d72e304"
      }
    },
    {
      "cell_type": "code",
      "execution_count": null,
      "source": [
        "train_data = tf.data.Dataset.from_tensor_slices((X_train,y_train))\n",
        "train_data = train_data.batch(mini_batch_size)\n",
        "\n",
        "validation_data = tf.data.Dataset.from_tensor_slices((X_validation,y_validation))\n",
        "validation_data = validation_data.batch(mini_batch_size)"
      ],
      "outputs": [],
      "metadata": {
        "id": "HdwSG7TUj5tw"
      }
    },
    {
      "cell_type": "code",
      "execution_count": null,
      "source": [
        "window_size=7\n",
        "min_midi = 21\n",
        "max_midi = 108\n",
        "note_range = max_midi - min_midi + 1"
      ],
      "outputs": [],
      "metadata": {
        "id": "HlRDYMOXvBB8"
      }
    },
    {
      "cell_type": "code",
      "execution_count": null,
      "source": [
        "input_shape=(None,100,1,252)\n",
        "model=Sequential()\n",
        "\n",
        "#1\n",
        "model.add(Conv2D(filters=32, kernel_size=(5,4),padding=\"same\", activation='relu', input_shape=input_shape))\n",
        "model.add(BatchNormalization())\n",
        "model.add(Dropout(rate=0.2))\n",
        "\n",
        "#2 \n",
        "model.add(Conv2D(filters=32, kernel_size=(3, 3),padding=\"same\", activation='relu'))\n",
        "model.add(BatchNormalization())\n",
        "model.add(Dropout(rate=0.2))\n",
        "model.add(MaxPool2D(pool_size=(1, 2),padding=\"same\"))\n",
        "\n",
        "#3\n",
        "model.add(Dense(1000, activation='relu'))\n",
        "model.add(BatchNormalization())\n",
        "model.add(Dropout(rate=0.5))\n",
        "\n",
        "#4\n",
        "model.add(Dense(200, activation='relu'))\n",
        "model.add(BatchNormalization())\n",
        "model.add(Dropout(rate=0.5))\n",
        "\n",
        "#5\n",
        "model.add(Dense(88, activation='sigmoid'))"
      ],
      "outputs": [],
      "metadata": {
        "id": "B6YkMthtTE4i"
      }
    },
    {
      "cell_type": "code",
      "execution_count": null,
      "source": [
        "#accuracy\n",
        "class AccuracyHistory(tf.keras.callbacks.Callback):\n",
        "    def on_train_begin(self, logs={}):\n",
        "        self.acc = []\n",
        "\n",
        "    def on_epoch_end(self, batch, logs={}):\n",
        "        self.acc.append(logs.get('acc'))"
      ],
      "outputs": [],
      "metadata": {
        "id": "eYyqPWpNbxhF"
      }
    },
    {
      "cell_type": "code",
      "execution_count": null,
      "source": [
        "optimizer1 = Adam(learning_rate=0.001)\n",
        "model.compile(loss='binary_crossentropy', optimizer= optimizer1, metrics=['accuracy'])\n",
        "history = AccuracyHistory()\n",
        "\n",
        "callbacks = [history]"
      ],
      "outputs": [],
      "metadata": {
        "id": "bhVKImwVbo_2"
      }
    },
    {
      "cell_type": "code",
      "execution_count": null,
      "source": [
        "model.fit(train_data,epochs=30,batch_size=mini_batch_size,validation_data=validation_data, verbose = 1, callbacks=callbacks)"
      ],
      "outputs": [
        {
          "output_type": "stream",
          "name": "stdout",
          "text": [
            "Epoch 1/30\n",
            "23/23 [==============================] - 58s 661ms/step - loss: 0.7412 - accuracy: 0.0131 - val_loss: 0.6001 - val_accuracy: 0.0138\n",
            "Epoch 2/30\n",
            "23/23 [==============================] - 8s 341ms/step - loss: 0.6251 - accuracy: 0.0136 - val_loss: 0.5213 - val_accuracy: 0.0029\n",
            "Epoch 3/30\n",
            "23/23 [==============================] - 8s 338ms/step - loss: 0.4667 - accuracy: 0.0126 - val_loss: 0.3440 - val_accuracy: 0.0000e+00\n",
            "Epoch 4/30\n",
            "23/23 [==============================] - 8s 338ms/step - loss: 0.2983 - accuracy: 0.0247 - val_loss: 0.2343 - val_accuracy: 7.0612e-04\n",
            "Epoch 5/30\n",
            "23/23 [==============================] - 8s 338ms/step - loss: 0.2127 - accuracy: 0.0519 - val_loss: 0.1940 - val_accuracy: 0.0196\n",
            "Epoch 6/30\n",
            "23/23 [==============================] - 8s 338ms/step - loss: 0.1826 - accuracy: 0.0669 - val_loss: 0.1805 - val_accuracy: 0.0354\n",
            "Epoch 7/30\n",
            "23/23 [==============================] - 8s 339ms/step - loss: 0.1681 - accuracy: 0.0762 - val_loss: 0.1726 - val_accuracy: 0.0485\n",
            "Epoch 8/30\n",
            "23/23 [==============================] - 8s 339ms/step - loss: 0.1585 - accuracy: 0.0859 - val_loss: 0.1651 - val_accuracy: 0.0828\n",
            "Epoch 9/30\n",
            "23/23 [==============================] - 8s 339ms/step - loss: 0.1516 - accuracy: 0.0939 - val_loss: 0.1619 - val_accuracy: 0.0698\n",
            "Epoch 10/30\n",
            "23/23 [==============================] - 8s 338ms/step - loss: 0.1465 - accuracy: 0.1006 - val_loss: 0.1630 - val_accuracy: 0.0401\n",
            "Epoch 11/30\n",
            "23/23 [==============================] - 8s 337ms/step - loss: 0.1422 - accuracy: 0.1058 - val_loss: 0.1615 - val_accuracy: 0.0388\n",
            "Epoch 12/30\n",
            "23/23 [==============================] - 8s 336ms/step - loss: 0.1390 - accuracy: 0.1097 - val_loss: 0.1599 - val_accuracy: 0.0315\n",
            "Epoch 13/30\n",
            "23/23 [==============================] - 8s 336ms/step - loss: 0.1366 - accuracy: 0.1143 - val_loss: 0.1522 - val_accuracy: 0.0429\n",
            "Epoch 14/30\n",
            "23/23 [==============================] - 8s 338ms/step - loss: 0.1348 - accuracy: 0.1173 - val_loss: 0.1423 - val_accuracy: 0.0672\n",
            "Epoch 15/30\n",
            "23/23 [==============================] - 8s 336ms/step - loss: 0.1328 - accuracy: 0.1211 - val_loss: 0.1354 - val_accuracy: 0.0870\n",
            "Epoch 16/30\n",
            "23/23 [==============================] - 8s 338ms/step - loss: 0.1312 - accuracy: 0.1238 - val_loss: 0.1301 - val_accuracy: 0.0950\n",
            "Epoch 17/30\n",
            "23/23 [==============================] - 8s 338ms/step - loss: 0.1299 - accuracy: 0.1266 - val_loss: 0.1243 - val_accuracy: 0.1336\n",
            "Epoch 18/30\n",
            "23/23 [==============================] - 8s 338ms/step - loss: 0.1286 - accuracy: 0.1298 - val_loss: 0.1229 - val_accuracy: 0.1280\n",
            "Epoch 19/30\n",
            "23/23 [==============================] - 8s 337ms/step - loss: 0.1275 - accuracy: 0.1318 - val_loss: 0.1200 - val_accuracy: 0.1682\n",
            "Epoch 20/30\n",
            "23/23 [==============================] - 8s 334ms/step - loss: 0.1265 - accuracy: 0.1332 - val_loss: 0.1188 - val_accuracy: 0.1591\n",
            "Epoch 21/30\n",
            "23/23 [==============================] - 8s 337ms/step - loss: 0.1256 - accuracy: 0.1345 - val_loss: 0.1165 - val_accuracy: 0.1631\n",
            "Epoch 22/30\n",
            "23/23 [==============================] - 8s 338ms/step - loss: 0.1248 - accuracy: 0.1356 - val_loss: 0.1173 - val_accuracy: 0.1747\n",
            "Epoch 23/30\n",
            "23/23 [==============================] - 8s 335ms/step - loss: 0.1241 - accuracy: 0.1366 - val_loss: 0.1155 - val_accuracy: 0.1779\n",
            "Epoch 24/30\n",
            "23/23 [==============================] - 8s 337ms/step - loss: 0.1231 - accuracy: 0.1379 - val_loss: 0.1146 - val_accuracy: 0.1739\n",
            "Epoch 25/30\n",
            "23/23 [==============================] - 8s 338ms/step - loss: 0.1226 - accuracy: 0.1401 - val_loss: 0.1131 - val_accuracy: 0.1800\n",
            "Epoch 26/30\n",
            "23/23 [==============================] - 8s 339ms/step - loss: 0.1219 - accuracy: 0.1405 - val_loss: 0.1122 - val_accuracy: 0.1850\n",
            "Epoch 27/30\n",
            "23/23 [==============================] - 8s 337ms/step - loss: 0.1215 - accuracy: 0.1428 - val_loss: 0.1119 - val_accuracy: 0.1899\n",
            "Epoch 28/30\n",
            "23/23 [==============================] - 8s 337ms/step - loss: 0.1208 - accuracy: 0.1443 - val_loss: 0.1116 - val_accuracy: 0.1945\n",
            "Epoch 29/30\n",
            "23/23 [==============================] - 8s 338ms/step - loss: 0.1205 - accuracy: 0.1456 - val_loss: 0.1123 - val_accuracy: 0.2038\n",
            "Epoch 30/30\n",
            "23/23 [==============================] - 8s 336ms/step - loss: 0.1201 - accuracy: 0.1464 - val_loss: 0.1181 - val_accuracy: 0.2032\n"
          ]
        },
        {
          "output_type": "execute_result",
          "data": {
            "text/plain": [
              "<tensorflow.python.keras.callbacks.History at 0x7fa8868e7d10>"
            ]
          },
          "metadata": {
            "tags": []
          },
          "execution_count": 23
        }
      ],
      "metadata": {
        "colab": {
          "base_uri": "https://localhost:8080/"
        },
        "id": "-r-7rgbykCNm",
        "outputId": "1de73dcf-f60e-42d5-a397-0dc47aa1945e"
      }
    },
    {
      "cell_type": "code",
      "execution_count": null,
      "source": [
        "model.summary()"
      ],
      "outputs": [
        {
          "output_type": "stream",
          "name": "stdout",
          "text": [
            "Model: \"sequential\"\n",
            "_________________________________________________________________\n",
            "Layer (type)                 Output Shape              Param #   \n",
            "=================================================================\n",
            "module_wrapper (ModuleWrappe (None, 100, 1, 32)        161312    \n",
            "_________________________________________________________________\n",
            "module_wrapper_1 (ModuleWrap (None, 100, 1, 32)        128       \n",
            "_________________________________________________________________\n",
            "module_wrapper_2 (ModuleWrap (None, 100, 1, 32)        0         \n",
            "_________________________________________________________________\n",
            "module_wrapper_3 (ModuleWrap (None, 100, 1, 32)        9248      \n",
            "_________________________________________________________________\n",
            "module_wrapper_4 (ModuleWrap (None, 100, 1, 32)        128       \n",
            "_________________________________________________________________\n",
            "module_wrapper_5 (ModuleWrap (None, 100, 1, 32)        0         \n",
            "_________________________________________________________________\n",
            "module_wrapper_6 (ModuleWrap (None, 100, 1, 32)        0         \n",
            "_________________________________________________________________\n",
            "module_wrapper_7 (ModuleWrap (None, 100, 1, 1000)      33000     \n",
            "_________________________________________________________________\n",
            "module_wrapper_8 (ModuleWrap (None, 100, 1, 1000)      4000      \n",
            "_________________________________________________________________\n",
            "module_wrapper_9 (ModuleWrap (None, 100, 1, 1000)      0         \n",
            "_________________________________________________________________\n",
            "module_wrapper_10 (ModuleWra (None, 100, 1, 200)       200200    \n",
            "_________________________________________________________________\n",
            "module_wrapper_11 (ModuleWra (None, 100, 1, 200)       800       \n",
            "_________________________________________________________________\n",
            "module_wrapper_12 (ModuleWra (None, 100, 1, 200)       0         \n",
            "_________________________________________________________________\n",
            "module_wrapper_13 (ModuleWra (None, 100, 1, 88)        17688     \n",
            "=================================================================\n",
            "Total params: 426,504\n",
            "Trainable params: 423,976\n",
            "Non-trainable params: 2,528\n",
            "_________________________________________________________________\n"
          ]
        }
      ],
      "metadata": {
        "id": "q-ON-d7okDY6",
        "colab": {
          "base_uri": "https://localhost:8080/"
        },
        "outputId": "b4ebff3a-08ae-4e46-df38-013bdcf3724a"
      }
    },
    {
      "cell_type": "code",
      "execution_count": null,
      "source": [
        "score = model.evaluate(X_test, y_test, verbose=0)\n",
        "print(score)\n",
        "print('Test loss:', score[0])\n",
        "print('Test accuracy:', score[1])"
      ],
      "outputs": [
        {
          "output_type": "stream",
          "name": "stdout",
          "text": [
            "[0.11734689027070999, 0.2004091590642929]\n",
            "Test loss: 0.11734689027070999\n",
            "Test accuracy: 0.2004091590642929\n"
          ]
        }
      ],
      "metadata": {
        "id": "073WSrX1Hjeb",
        "colab": {
          "base_uri": "https://localhost:8080/"
        },
        "outputId": "dfb95a59-bcd9-4025-9838-05d214170d1f"
      }
    },
    {
      "cell_type": "code",
      "execution_count": null,
      "source": [
        "y_true=y_validation\n",
        "y_scores=model.predict(X_validation)"
      ],
      "outputs": [],
      "metadata": {
        "id": "rxhB1jTTJiWS"
      }
    },
    {
      "cell_type": "code",
      "execution_count": null,
      "source": [
        "def opt_thresholds(y_true,y_scores):\n",
        "    othresholds = np.zeros(y_scores.shape[1])\n",
        "    print(othresholds.shape)\n",
        "    for label, (label_scores, true_bin) in enumerate(zip(y_scores.T,y_true.T)):\n",
        "        precision, recall, thresholds = sklearn.metrics.precision_recall_curve(true_bin, label_scores)\n",
        "        max_f1 = 0\n",
        "        max_f1_threshold = .5\n",
        "        for r, p, t in zip(recall, precision, thresholds):\n",
        "            if p + r == 0: continue\n",
        "            if (2*p*r)/(p + r) > max_f1:\n",
        "                max_f1 = (2*p*r)/(p + r)\n",
        "                max_f1_threshold = t\n",
        "        # print(\"label %f: max_f1_threshold %f => max_f1 %f\" %(label, max_f1_threshold, max_f1))\n",
        "        othresholds[label] = max_f1_threshold\n",
        "    return othresholds"
      ],
      "outputs": [],
      "metadata": {
        "id": "VJRwmCAU6uEd"
      }
    },
    {
      "cell_type": "code",
      "execution_count": null,
      "source": [
        "x, y_true=X_validation, y_validation\n",
        "y_scores=model.predict(x)\n",
        "print(y_scores.shape)\n",
        "print(y_true.shape)"
      ],
      "outputs": [
        {
          "output_type": "stream",
          "name": "stdout",
          "text": [
            "(4900, 100, 1, 88)\n",
            "(490000, 88)\n"
          ]
        }
      ],
      "metadata": {
        "id": "hxGwlcnb5rB9",
        "colab": {
          "base_uri": "https://localhost:8080/"
        },
        "outputId": "47444e5d-64ba-461f-a0da-d0e567efffa6"
      }
    },
    {
      "cell_type": "code",
      "execution_count": null,
      "source": [
        "y_scores=np.reshape(y_scores, (490000, 88))\n",
        "y_validation=np.reshape(y_validation, (490000, 88))\n",
        "thresholds = opt_thresholds(y_true,y_scores)\n",
        "\n",
        "y_pred = y_scores > thresholds\n",
        "p,r,f,s = sklearn.metrics.precision_recall_fscore_support(y_true,y_pred,average='micro')\n",
        "print(\"%f %f %f\" %(p, r, f))"
      ],
      "outputs": [
        {
          "output_type": "stream",
          "name": "stdout",
          "text": [
            "(88,)\n"
          ]
        },
        {
          "output_type": "stream",
          "name": "stderr",
          "text": [
            "/usr/local/lib/python3.7/dist-packages/sklearn/metrics/_ranking.py:677: RuntimeWarning: invalid value encountered in true_divide\n",
            "  recall = tps / tps[-1]\n"
          ]
        },
        {
          "output_type": "stream",
          "name": "stdout",
          "text": [
            "0.392874 0.634397 0.485243\n"
          ]
        }
      ],
      "metadata": {
        "id": "g6diYAJccHwE",
        "colab": {
          "base_uri": "https://localhost:8080/"
        },
        "outputId": "da7c1c56-74b2-4cbf-d70b-1e87b2f473d1"
      }
    },
    {
      "cell_type": "code",
      "execution_count": null,
      "source": [
        "y_scores_test=model.predict(X_test)\n",
        "y_pred_test = y_scores_test > thresholds"
      ],
      "outputs": [],
      "metadata": {
        "id": "Oq1JXV0YaGew"
      }
    },
    {
      "cell_type": "code",
      "execution_count": null,
      "source": [
        "print(y_pred_test.shape)"
      ],
      "outputs": [
        {
          "output_type": "stream",
          "name": "stdout",
          "text": [
            "(5157, 100, 1, 88)\n"
          ]
        }
      ],
      "metadata": {
        "id": "b0W-RjH6cQJh",
        "colab": {
          "base_uri": "https://localhost:8080/"
        },
        "outputId": "6b249725-ba7b-419d-b46e-5179847ed4f8"
      }
    },
    {
      "cell_type": "code",
      "execution_count": null,
      "source": [
        "print(thresholds.shape)"
      ],
      "outputs": [
        {
          "output_type": "stream",
          "name": "stdout",
          "text": [
            "(88,)\n"
          ]
        }
      ],
      "metadata": {
        "id": "hFwO_VKIBY3-",
        "colab": {
          "base_uri": "https://localhost:8080/"
        },
        "outputId": "671b8cea-8267-48db-9639-e34f15a00cdf"
      }
    },
    {
      "cell_type": "code",
      "execution_count": null,
      "source": [
        "y_pred_test=np.squeeze(y_pred_test, axis=-2)\n",
        "print(y_pred_test.shape)"
      ],
      "outputs": [
        {
          "output_type": "stream",
          "name": "stdout",
          "text": [
            "(5157, 100, 88)\n"
          ]
        }
      ],
      "metadata": {
        "id": "g8J52hGGc_Jo",
        "colab": {
          "base_uri": "https://localhost:8080/"
        },
        "outputId": "44944083-fe06-4546-d700-d68a05fcfad7"
      }
    },
    {
      "cell_type": "code",
      "execution_count": null,
      "source": [
        "save('final2.npy', y_pred_test)"
      ],
      "outputs": [],
      "metadata": {
        "id": "yW2i63GxoYdy"
      }
    }
  ]
}